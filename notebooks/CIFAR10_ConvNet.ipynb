{
  "nbformat": 4,
  "nbformat_minor": 0,
  "metadata": {
    "accelerator": "GPU",
    "colab": {
      "name": "S4TF CIFAR10 ConvNet.ipynb",
      "provenance": [],
      "collapsed_sections": [],
      "toc_visible": true
    },
    "kernelspec": {
      "display_name": "Swift",
      "language": "swift",
      "name": "swift"
    }
  },
  "cells": [
    {
      "cell_type": "markdown",
      "metadata": {
        "colab_type": "text",
        "id": "BcLhx7R4YuUv"
      },
      "source": [
        "# CIFAR10 in Swift for TensorFlow (ConvNet)"
      ]
    },
    {
      "cell_type": "markdown",
      "metadata": {
        "colab_type": "text",
        "id": "lvZux3i-YzNv"
      },
      "source": [
        "## Importing dependencies"
      ]
    },
    {
      "cell_type": "code",
      "metadata": {
        "id": "4gTCVkuQbgW1",
        "colab_type": "code",
        "colab": {}
      },
      "source": [
        "%install-location $cwd/swift-install\n",
        "%install '.package(url: \"https://github.com/tensorflow/swift-models\", .branch(\"master\"))' Datasets"
      ],
      "execution_count": 0,
      "outputs": []
    },
    {
      "cell_type": "code",
      "metadata": {
        "colab_type": "code",
        "id": "dvaI1fPZRfQH",
        "colab": {}
      },
      "source": [
        "import TensorFlow\n",
        "import Foundation\n",
        "import Datasets"
      ],
      "execution_count": 0,
      "outputs": []
    },
    {
      "cell_type": "code",
      "metadata": {
        "colab_type": "code",
        "id": "0awo42kpWWaE",
        "colab": {}
      },
      "source": [
        "import Python\n",
        "let plt = Python.import(\"matplotlib.pylab\")\n",
        "let np = Python.import(\"numpy\")"
      ],
      "execution_count": 0,
      "outputs": []
    },
    {
      "cell_type": "code",
      "metadata": {
        "colab_type": "code",
        "id": "hxyQaWVajlrA",
        "colab": {}
      },
      "source": [
        "%include \"EnableIPythonDisplay.swift\"\n",
        "IPythonDisplay.shell.enable_matplotlib(\"inline\")"
      ],
      "execution_count": 0,
      "outputs": []
    },
    {
      "cell_type": "markdown",
      "metadata": {
        "colab_type": "text",
        "id": "gFp59EhiY3Y4"
      },
      "source": [
        "## Loading CIFAR10\n",
        "\n",
        "[tensorflow/swift-models](https://github.com/tensorflow/swift-models)"
      ]
    },
    {
      "cell_type": "code",
      "metadata": {
        "id": "TB8GDbCDcSxa",
        "colab_type": "code",
        "colab": {}
      },
      "source": [
        "let batchSize = 512"
      ],
      "execution_count": 0,
      "outputs": []
    },
    {
      "cell_type": "code",
      "metadata": {
        "colab_type": "code",
        "id": "cmEkbL2UHP2r",
        "colab": {}
      },
      "source": [
        "var dataset = CIFAR10()"
      ],
      "execution_count": 0,
      "outputs": []
    },
    {
      "cell_type": "markdown",
      "metadata": {
        "id": "F-CODZmSNPYo",
        "colab_type": "text"
      },
      "source": [
        "## Inspect examples"
      ]
    },
    {
      "cell_type": "code",
      "metadata": {
        "id": "67iVcdps3Ln2",
        "colab_type": "code",
        "colab": {}
      },
      "source": [
        "var iterator = dataset.trainingDataset.makeIterator()\n",
        "let image = iterator.next()!.data.reshaped(to: TensorShape(32, 32, 3)).makeNumpyArray()\n",
        "plt.imshow(image)\n",
        "plt.show()"
      ],
      "execution_count": 0,
      "outputs": []
    },
    {
      "cell_type": "code",
      "metadata": {
        "id": "gtGZFrpP533Q",
        "colab_type": "code",
        "colab": {}
      },
      "source": [
        "let image = iterator.next()!.data.reshaped(to: TensorShape(32, 32, 3)).makeNumpyArray()\n",
        "plt.imshow(image)\n",
        "plt.show()"
      ],
      "execution_count": 0,
      "outputs": []
    },
    {
      "cell_type": "markdown",
      "metadata": {
        "colab_type": "text",
        "id": "2ppaI_0SZKh2"
      },
      "source": [
        "## Constructing the network"
      ]
    },
    {
      "cell_type": "code",
      "metadata": {
        "colab_type": "code",
        "id": "k-hGkSXkRux3",
        "colab": {}
      },
      "source": [
        "struct Model: Layer {\n",
        "    var flatten = Flatten<Float>()\n",
        "    var dropout25 = Dropout<Float>(probability: 0.25)\n",
        "\n",
        "    // 1\n",
        "    var conv1 = Conv2D<Float>(\n",
        "      filterShape: (3, 3, 3, 32),\n",
        "      padding: .same,\n",
        "      activation: relu\n",
        "    )\n",
        "    var conv2 = Conv2D<Float>(\n",
        "      filterShape: (3, 3, 32, 32),\n",
        "      padding: .same,\n",
        "      activation: relu\n",
        "    )\n",
        "    var maxPooling1 = MaxPool2D<Float>(poolSize: (2, 2), strides: (1, 1))\n",
        "    // dropout\n",
        "\n",
        "    // 2\n",
        "    var conv3 = Conv2D<Float>(\n",
        "      filterShape: (3, 3, 32, 64),\n",
        "      padding: .same,\n",
        "      activation: relu\n",
        "    )\n",
        "    var conv4 = Conv2D<Float>(\n",
        "      filterShape: (3, 3, 64, 64),\n",
        "      padding: .same,\n",
        "      activation: relu\n",
        "    )\n",
        "    var maxPooling2 = MaxPool2D<Float>(poolSize: (2, 2), strides: (1, 1))\n",
        "    // dropout\n",
        "\n",
        "    var dense1 = Dense<Float>(inputSize: 30 * 30 * 64, outputSize: 128, activation: relu)\n",
        "    var dropout50 = Dropout<Float>(probability: 0.5)\n",
        "    var dense2 = Dense<Float>(inputSize: 128, outputSize: 10, activation: softmax)\n",
        "    \n",
        "    @differentiable\n",
        "    func callAsFunction(_ input: Tensor<Float>) -> Tensor<Float> {\n",
        "        return input\n",
        "          .sequenced(through: conv1, conv2, maxPooling1, dropout25)\n",
        "          .sequenced(through: conv3, conv4, maxPooling2, dropout25)\n",
        "          .sequenced(through: flatten, dense1, dropout50, dense2)\n",
        "    }\n",
        "}"
      ],
      "execution_count": 0,
      "outputs": []
    },
    {
      "cell_type": "code",
      "metadata": {
        "colab_type": "code",
        "id": "5XCYHPH_qPaz",
        "colab": {}
      },
      "source": [
        "var model = Model()"
      ],
      "execution_count": 0,
      "outputs": []
    },
    {
      "cell_type": "code",
      "metadata": {
        "id": "zDFvxfSO7vyK",
        "colab_type": "code",
        "colab": {}
      },
      "source": [
        "let dummy = Tensor<Float>(randomNormal: TensorShape(1, 32, 32, 3))\n",
        "model(dummy)"
      ],
      "execution_count": 0,
      "outputs": []
    },
    {
      "cell_type": "markdown",
      "metadata": {
        "colab_type": "text",
        "id": "qAXVzcGFZTAn"
      },
      "source": [
        "## Training"
      ]
    },
    {
      "cell_type": "code",
      "metadata": {
        "colab_type": "code",
        "id": "-fHA07VycX-G",
        "colab": {}
      },
      "source": [
        "let epochs = 50\n",
        "var trainHistory = np.zeros(epochs)\n",
        "var valHistory = np.zeros(epochs)"
      ],
      "execution_count": 0,
      "outputs": []
    },
    {
      "cell_type": "code",
      "metadata": {
        "colab_type": "code",
        "id": "GvM422SwOyvN",
        "colab": {}
      },
      "source": [
        "let optimizer = Adam(for: model)"
      ],
      "execution_count": 0,
      "outputs": []
    },
    {
      "cell_type": "code",
      "metadata": {
        "colab_type": "code",
        "id": "bdqKlxmpHkc7",
        "colab": {}
      },
      "source": [
        "for epoch in 0..<epochs {\n",
        "    // Update parameters\n",
        "    Context.local.learningPhase = .training\n",
        "    let trainingShuffled = dataset.trainingDataset.shuffled(sampleCount: dataset.trainingExampleCount, randomSeed: Int64(epoch)) \n",
        "    for batch in trainingShuffled.batched(batchSize) {\n",
        "        let (labels, images) = (batch.label, batch.data)\n",
        "        let (_, gradients) = valueWithGradient(at: model) { model -> Tensor<Float> in\n",
        "            let logits = model(images)\n",
        "            return softmaxCrossEntropy(logits: logits, labels: labels)\n",
        "        }\n",
        "        optimizer.update(&model, along: gradients)\n",
        "    }\n",
        "\n",
        "    // Evaluate model\n",
        "    Context.local.learningPhase = .inference\n",
        "\n",
        "    var correctTrainGuessCount = 0\n",
        "    var totalTrainGuessCount = 0\n",
        "    dataset.trainingDataset.batched(512).forEach { batch in\n",
        "        let images = batch.data, labels = batch.label\n",
        "        let logits = model(images)\n",
        "        let correctPredictions = logits.argmax(squeezingAxis: 1) .== labels\n",
        "        correctTrainGuessCount += Int(Tensor<Int32>(correctPredictions).sum().scalarized())\n",
        "    }\n",
        "    let trainAcc = Float(correctTrainGuessCount) / Float(dataset.trainingExampleCount)\n",
        "    trainHistory[epoch] = PythonObject(trainAcc)\n",
        "\n",
        "    var correctValGuessCount = 0\n",
        "    var totalValGuessCount = 0\n",
        "    dataset.testDataset.batched(512).forEach { batch in\n",
        "        let images = batch.data, labels = batch.label\n",
        "        let logits = model(images)\n",
        "        let correctPredictions = logits.argmax(squeezingAxis: 1) .== labels\n",
        "        correctValGuessCount += Int(Tensor<Int32>(correctPredictions).sum().scalarized())\n",
        "    }\n",
        "    let valAcc = Float(correctValGuessCount) / Float(10000)\n",
        "    valHistory[epoch] = PythonObject(valAcc)\n",
        "    \n",
        "    print(\"\\(epoch + 1) | Training accuracy: \\(trainAcc) | Validation accuracy: \\(valAcc)\")\n",
        "}"
      ],
      "execution_count": 0,
      "outputs": []
    },
    {
      "cell_type": "markdown",
      "metadata": {
        "colab_type": "text",
        "id": "WjUY0gwXTDX-"
      },
      "source": [
        "## Inspecting training history"
      ]
    },
    {
      "cell_type": "code",
      "metadata": {
        "colab_type": "code",
        "id": "b_f-DNeqp9qO",
        "colab": {}
      },
      "source": [
        "plt.plot(trainHistory)\n",
        "plt.title(\"Training History\")\n",
        "plt.show()"
      ],
      "execution_count": 0,
      "outputs": []
    },
    {
      "cell_type": "code",
      "metadata": {
        "colab_type": "code",
        "id": "1AkaTk_3THsK",
        "colab": {}
      },
      "source": [
        "plt.plot(valHistory)\n",
        "plt.title(\"Validation History\")\n",
        "plt.show()"
      ],
      "execution_count": 0,
      "outputs": []
    },
    {
      "cell_type": "markdown",
      "metadata": {
        "id": "yp_3yFICNVYY",
        "colab_type": "text"
      },
      "source": [
        "## Making predictions"
      ]
    },
    {
      "cell_type": "code",
      "metadata": {
        "id": "xOd7un2zNTV-",
        "colab_type": "code",
        "colab": {}
      },
      "source": [
        "var iterator = dataset.testDataset.makeIterator()\n",
        "let example = iterator.next()!\n",
        "let image = example.data.reshaped(to: TensorShape(1, 32, 32, 3)) // batch size 1\n",
        "print(model(image).argmax(), example.label)"
      ],
      "execution_count": 0,
      "outputs": []
    },
    {
      "cell_type": "code",
      "metadata": {
        "id": "ovhWx064KaHL",
        "colab_type": "code",
        "colab": {}
      },
      "source": [
        "let example = iterator.next()!\n",
        "let image = example.data.reshaped(to: TensorShape(1, 32, 32, 3)) // batch size 1\n",
        "print(model(image).argmax(), example.label)"
      ],
      "execution_count": 0,
      "outputs": []
    },
    {
      "cell_type": "code",
      "metadata": {
        "id": "aHrRhuHwNsUI",
        "colab_type": "code",
        "colab": {}
      },
      "source": [
        "let example = iterator.next()!\n",
        "let image = example.data.reshaped(to: TensorShape(1, 32, 32, 3)) // batch size 1\n",
        "print(model(image).argmax(), example.label)"
      ],
      "execution_count": 0,
      "outputs": []
    },
    {
      "cell_type": "code",
      "metadata": {
        "id": "EFpVZmrSN8vM",
        "colab_type": "code",
        "colab": {}
      },
      "source": [
        "let example = iterator.next()!\n",
        "let image = example.data.reshaped(to: TensorShape(1, 32, 32, 3)) // batch size 1\n",
        "print(model(image).argmax(), example.label)"
      ],
      "execution_count": 0,
      "outputs": []
    }
  ]
}