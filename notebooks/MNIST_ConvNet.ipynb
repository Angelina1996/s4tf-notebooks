{
  "nbformat": 4,
  "nbformat_minor": 0,
  "metadata": {
    "accelerator": "GPU",
    "colab": {
      "name": "S4TF MNIST ConvNet.ipynb",
      "provenance": [],
      "collapsed_sections": [],
      "toc_visible": true
    },
    "kernelspec": {
      "display_name": "Swift",
      "language": "swift",
      "name": "swift"
    }
  },
  "cells": [
    {
      "cell_type": "markdown",
      "metadata": {
        "colab_type": "text",
        "id": "BcLhx7R4YuUv"
      },
      "source": [
        "# MNIST in Swift for TensorFlow (ConvNet)\n",
        "\n",
        "Blog post: https://rickwierenga.com/blog/s4tf/s4tf-mnist.html"
      ]
    },
    {
      "cell_type": "markdown",
      "metadata": {
        "colab_type": "text",
        "id": "lvZux3i-YzNv"
      },
      "source": [
        "## Importing dependencies"
      ]
    },
    {
      "cell_type": "code",
      "metadata": {
        "id": "4gTCVkuQbgW1",
        "colab_type": "code",
        "colab": {}
      },
      "source": [
        "%install-location $cwd/swift-install\n",
        "%install '.package(url: \"https://github.com/tensorflow/swift-models\", .branch(\"tensorflow-0.6\"))' Datasets"
      ],
      "execution_count": 0,
      "outputs": []
    },
    {
      "cell_type": "code",
      "metadata": {
        "colab_type": "code",
        "id": "dvaI1fPZRfQH",
        "colab": {}
      },
      "source": [
        "import TensorFlow\n",
        "import Foundation\n",
        "import Datasets"
      ],
      "execution_count": 0,
      "outputs": []
    },
    {
      "cell_type": "code",
      "metadata": {
        "colab_type": "code",
        "id": "0awo42kpWWaE",
        "colab": {}
      },
      "source": [
        "import Python\n",
        "let plt = Python.import(\"matplotlib.pylab\")\n",
        "let np = Python.import(\"numpy\")"
      ],
      "execution_count": 0,
      "outputs": []
    },
    {
      "cell_type": "code",
      "metadata": {
        "colab_type": "code",
        "id": "hxyQaWVajlrA",
        "colab": {}
      },
      "source": [
        "%include \"EnableIPythonDisplay.swift\"\n",
        "IPythonDisplay.shell.enable_matplotlib(\"inline\")"
      ],
      "execution_count": 0,
      "outputs": []
    },
    {
      "cell_type": "markdown",
      "metadata": {
        "colab_type": "text",
        "id": "gFp59EhiY3Y4"
      },
      "source": [
        "## Loading MNIST\n",
        "\n",
        "[tensorflow/swift-models](https://github.com/tensorflow/swift-models)"
      ]
    },
    {
      "cell_type": "code",
      "metadata": {
        "id": "TB8GDbCDcSxa",
        "colab_type": "code",
        "colab": {}
      },
      "source": [
        "let batchSize = 512"
      ],
      "execution_count": 0,
      "outputs": []
    },
    {
      "cell_type": "code",
      "metadata": {
        "colab_type": "code",
        "id": "cmEkbL2UHP2r",
        "colab": {}
      },
      "source": [
        "let mnist = MNIST(batchSize: batchSize, flattening: false, normalizing: true)"
      ],
      "execution_count": 0,
      "outputs": []
    },
    {
      "cell_type": "markdown",
      "metadata": {
        "colab_type": "text",
        "id": "2ppaI_0SZKh2"
      },
      "source": [
        "## Constructing the network"
      ]
    },
    {
      "cell_type": "code",
      "metadata": {
        "colab_type": "code",
        "id": "k-hGkSXkRux3",
        "colab": {}
      },
      "source": [
        "struct Model: Layer {\n",
        "    var flatten1 = Flatten<Float>()\n",
        "    var conv1 = Conv2D<Float>(\n",
        "      filterShape: (2, 2, 1, 32),\n",
        "      padding: .same,\n",
        "      activation: relu\n",
        "    )\n",
        "    var conv2 = Conv2D<Float>(\n",
        "      filterShape: (3, 3, 32, 64),\n",
        "      padding: .same,\n",
        "      activation: relu\n",
        "    )\n",
        "    var maxPooling = MaxPool2D<Float>(poolSize: (2, 2), strides: (1, 1))\n",
        "    var dropout1 = Dropout<Float>(probability: 0.25)\n",
        "\n",
        "    var flatten2 = Flatten<Float>()\n",
        "    var dense1 = Dense<Float>(inputSize: 27 * 27 * 64, outputSize: 128, activation: relu)\n",
        "    var dropout2 = Dropout<Float>(probability: 0.5)\n",
        "    var dense2 = Dense<Float>(inputSize: 128, outputSize: 10, activation: softmax)\n",
        "    \n",
        "    @differentiable\n",
        "    func callAsFunction(_ input: Tensor<Float>) -> Tensor<Float> {\n",
        "        return input\n",
        "          .sequenced(through: conv1, conv2, maxPooling, dropout1)\n",
        "          .sequenced(through: flatten2, dense1, dropout2, dense2)\n",
        "    }\n",
        "}"
      ],
      "execution_count": 0,
      "outputs": []
    },
    {
      "cell_type": "code",
      "metadata": {
        "colab_type": "code",
        "id": "5XCYHPH_qPaz",
        "colab": {}
      },
      "source": [
        "var model = Model()"
      ],
      "execution_count": 0,
      "outputs": []
    },
    {
      "cell_type": "markdown",
      "metadata": {
        "colab_type": "text",
        "id": "qAXVzcGFZTAn"
      },
      "source": [
        "## Training"
      ]
    },
    {
      "cell_type": "code",
      "metadata": {
        "colab_type": "code",
        "id": "-fHA07VycX-G",
        "colab": {}
      },
      "source": [
        "let epochs = 10\n",
        "var trainHistory = np.zeros(epochs)\n",
        "var valHistory = np.zeros(epochs)"
      ],
      "execution_count": 0,
      "outputs": []
    },
    {
      "cell_type": "code",
      "metadata": {
        "colab_type": "code",
        "id": "GvM422SwOyvN",
        "colab": {}
      },
      "source": [
        "let optimizer = Adam(for: model)"
      ],
      "execution_count": 0,
      "outputs": []
    },
    {
      "cell_type": "code",
      "metadata": {
        "colab_type": "code",
        "id": "bdqKlxmpHkc7",
        "colab": {}
      },
      "source": [
        "for epoch in 0..<epochs {\n",
        "    // Update parameters\n",
        "    Context.local.learningPhase = .training\n",
        "    for i  in 0..<(mnist.trainingSize / batchSize)+1  {\n",
        "        let thisBatchSize = i * batchSize >= mnist.trainingSize ? (mnist.trainingSize - ((i - 1) * batchSize)) : batchSize\n",
        "        let images = mnist.trainingImages.minibatch(at: i, batchSize: thisBatchSize)\n",
        "        let labels = mnist.trainingLabels.minibatch(at: i, batchSize: thisBatchSize)\n",
        "        let (_, gradients) = valueWithGradient(at: model) { model -> Tensor<Float> in\n",
        "            let logits = model(images)\n",
        "            return softmaxCrossEntropy(logits: logits, labels: labels)\n",
        "        }\n",
        "        optimizer.update(&model, along: gradients)\n",
        "    }\n",
        "\n",
        "    // Evaluate model\n",
        "    Context.local.learningPhase = .inference\n",
        "\n",
        "    var correctTrainGuessCount = 0\n",
        "    var totalTrainGuessCount = 0\n",
        "    for i  in 0..<(mnist.trainingSize / batchSize)+1  {\n",
        "        let thisBatchSize = i * batchSize >= mnist.trainingSize ? (mnist.trainingSize - ((i - 1) * batchSize)) : batchSize\n",
        "        let images = mnist.trainingImages.minibatch(at: i, batchSize: thisBatchSize)\n",
        "        let labels = mnist.trainingLabels.minibatch(at: i, batchSize: thisBatchSize)\n",
        "        let logits = model(images)\n",
        "        let correctPredictions = logits.argmax(squeezingAxis: 1) .== labels\n",
        "        correctTrainGuessCount += Int(Tensor<Int32>(correctPredictions).sum().scalarized())\n",
        "        totalTrainGuessCount += thisBatchSize\n",
        "    }\n",
        "    let trainAcc = Float(correctTrainGuessCount) / Float(totalTrainGuessCount)\n",
        "    trainHistory[epoch] = PythonObject(trainAcc)\n",
        "\n",
        "    var correctValGuessCount = 0\n",
        "    var totalValGuessCount = 0\n",
        "    for i  in 0..<(mnist.testSize / batchSize)+1  {\n",
        "        let thisBatchSize = i * batchSize >= mnist.testSize ? (mnist.testSize - ((i - 1) * batchSize)) : batchSize\n",
        "        let images = mnist.testImages.minibatch(at: i, batchSize: thisBatchSize)\n",
        "        let labels = mnist.testLabels.minibatch(at: i, batchSize: thisBatchSize)\n",
        "        let logits = model(images)\n",
        "        let correctPredictions = logits.argmax(squeezingAxis: 1) .== labels\n",
        "        correctValGuessCount += Int(Tensor<Int32>(correctPredictions).sum().scalarized())\n",
        "        totalValGuessCount += thisBatchSize\n",
        "    }\n",
        "    let valAcc = Float(correctValGuessCount) / Float(totalValGuessCount)\n",
        "    valHistory[epoch] = PythonObject(valAcc)\n",
        "    \n",
        "    print(\"\\(epoch) | Training accuracy: \\(trainAcc) | Validation accuracy: \\(valAcc)\")\n",
        "}"
      ],
      "execution_count": 0,
      "outputs": []
    },
    {
      "cell_type": "markdown",
      "metadata": {
        "colab_type": "text",
        "id": "WjUY0gwXTDX-"
      },
      "source": [
        "## Inspecting training history"
      ]
    },
    {
      "cell_type": "code",
      "metadata": {
        "colab_type": "code",
        "id": "b_f-DNeqp9qO",
        "colab": {}
      },
      "source": [
        "plt.plot(trainHistory)\n",
        "plt.title(\"Training History\")\n",
        "plt.show()"
      ],
      "execution_count": 0,
      "outputs": []
    },
    {
      "cell_type": "code",
      "metadata": {
        "colab_type": "code",
        "id": "1AkaTk_3THsK",
        "colab": {}
      },
      "source": [
        "plt.plot(valHistory)\n",
        "plt.title(\"Validation History\")\n",
        "plt.show()"
      ],
      "execution_count": 0,
      "outputs": []
    }
  ]
}